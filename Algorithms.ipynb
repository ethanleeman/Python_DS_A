{
 "cells": [
  {
   "cell_type": "code",
   "execution_count": null,
   "metadata": {
    "collapsed": true
   },
   "outputs": [],
   "source": [
    "import numpy as np\n",
    "from functools import total_ordering\n",
    "import math\n",
    "import random"
   ]
  },
  {
   "cell_type": "code",
   "execution_count": null,
   "metadata": {
    "collapsed": false
   },
   "outputs": [],
   "source": [
    "def binary_search(a, key):\n",
    "    lo, hi = 0, len(a)-1\n",
    "    while(lo <= hi):\n",
    "        mid = (lo + hi) // 2\n",
    "        if key < a[mid]: \n",
    "            hi = mid - 1\n",
    "        elif key > a[mid]:\n",
    "            lo = mid + 1\n",
    "        else: return mid\n",
    "    return -1\n",
    "\n",
    "a = [1,2,3,6,7]\n",
    "output = \"\"\n",
    "for key in [0,1,2,3,4,5,6,7,8,9]:\n",
    "    output += \" \" +str(binary_search(a,key))\n",
    "print output\n",
    "\n",
    "a = []\n",
    "output = \"\"\n",
    "for key in [0,1]:\n",
    "    output += \" \" +str(binary_search(a,key))\n",
    "print output\n",
    "\n",
    "a = [1]\n",
    "output = \"\"\n",
    "for key in [0,1]:\n",
    "    output += \" \" +str(binary_search(a,key))\n",
    "print output\n",
    "\n",
    "a = [1,2,3,6,7]\n",
    "a = np.array(a)\n",
    "output = \"\"\n",
    "for key in [0,1,2,3,4,5,6,7,8,9]:\n",
    "    output += \" \" +str(binary_search(a,key))\n",
    "print output\n",
    "\n",
    "a = []\n",
    "a = np.array(a)\n",
    "output = \"\"\n",
    "for key in [0,1]:\n",
    "    output += \" \" +str(binary_search(a,key))\n",
    "print output\n",
    "\n",
    "a = [1]\n",
    "a = np.array(a)\n",
    "output = \"\"\n",
    "for key in [0,1,2]:\n",
    "    output += \" \" +str(binary_search(a,key))\n",
    "print output\n",
    "    \n"
   ]
  },
  {
   "cell_type": "code",
   "execution_count": null,
   "metadata": {
    "collapsed": false
   },
   "outputs": [],
   "source": [
    "a = np.random.uniform(2,4,100)\n",
    "a.mean()"
   ]
  },
  {
   "cell_type": "code",
   "execution_count": null,
   "metadata": {
    "collapsed": false
   },
   "outputs": [],
   "source": [
    "np.random.uniform(2,3)"
   ]
  },
  {
   "cell_type": "code",
   "execution_count": 216,
   "metadata": {
    "collapsed": false
   },
   "outputs": [],
   "source": [
    "import numpy as np\n",
    "def knuth_shuffle(a):\n",
    "    for i in range(len(a)):\n",
    "        r = int(np.random.uniform(i,len(a)))\n",
    "        a[i],a[r] = a[r],a[i]\n",
    "a = [1,2,3,4,5]\n",
    "a = np.array(a)\n",
    "knuth_shuffle(a)"
   ]
  },
  {
   "cell_type": "code",
   "execution_count": null,
   "metadata": {
    "collapsed": false
   },
   "outputs": [],
   "source": [
    "a"
   ]
  },
  {
   "cell_type": "code",
   "execution_count": null,
   "metadata": {
    "collapsed": false
   },
   "outputs": [],
   "source": [
    "\n",
    "\n",
    "@total_ordering\n",
    "class counter:\n",
    "    def __init__(self,name):\n",
    "        self.name = name\n",
    "        self._count = 0\n",
    "        \n",
    "    def count(self):\n",
    "        return self._count\n",
    "    \n",
    "    def increment(self):\n",
    "        self._count += 1\n",
    "    \n",
    "    def __str__(self):\n",
    "        return str(self._count) + \" hits to \" + str(self.name)\n",
    "    \n",
    "    def __lt__(self,other):\n",
    "        return self._count < other._count\n",
    "    \n",
    "    def __eq__(self,other):\n",
    "        return self._count == other._count\n",
    "    \n",
    "a = counter(\"first\")\n",
    "b = counter(\"second\")\n",
    "for i in range(random.randint(0,10)):\n",
    "    a.increment()\n",
    "for i in range(random.randint(0,10)):\n",
    "    b.increment()   \n",
    "print a\n",
    "print b\n",
    "print a < b\n",
    "print a == b\n",
    "\n",
    "    "
   ]
  },
  {
   "cell_type": "code",
   "execution_count": null,
   "metadata": {
    "collapsed": false
   },
   "outputs": [],
   "source": [
    "class UF:\n",
    "    def __init__(self,n):\n",
    "        self._n = n\n",
    "        self._rank = np.zeros(n, dtype = int)\n",
    "        self._parent = np.array(range(n), dtype = int)\n",
    "        self._count = n\n",
    "        \n",
    "    def find(self,p):\n",
    "        while p != self._parent[p]:\n",
    "            self._parent[p] = self._parent[self._parent[p]]\n",
    "            p = self._parent[p]\n",
    "        return p\n",
    "    \n",
    "    def count(self):\n",
    "        return self._count\n",
    "    def n(self):\n",
    "        return self._n\n",
    "    def connected(self,p,q):\n",
    "        return self.find(p) == self.find(q)\n",
    "    def union(self,p,q):\n",
    "        root_p = self.find(p)\n",
    "        root_q = self.find(q)\n",
    "        if (root_p == root_q):\n",
    "            return\n",
    "        if self._rank[root_p] < self._rank[root_q]:\n",
    "            self._parent[root_p] = root_q\n",
    "        elif self._rank[root_p] > self._rank[root_q]:\n",
    "            self._parent[root_q] = root_p\n",
    "        else:\n",
    "            self._parent[root_p] = root_q\n",
    "            self._rank[root_q] += 1\n",
    "        self._count -= 1\n",
    "  \n",
    "uf = UF(3)\n",
    "print uf.connected(1,2)\n",
    "uf.union(1,2)\n",
    "print uf.connected(1,2)\n"
   ]
  },
  {
   "cell_type": "code",
   "execution_count": null,
   "metadata": {
    "collapsed": false
   },
   "outputs": [],
   "source": [
    "def insertion_sort(a):\n",
    "    for i in range(len(a)):\n",
    "        for j in reversed(range(1,i+1)):\n",
    "            if a[j] > a[j-1]:\n",
    "                break\n",
    "            else:\n",
    "                a[j],a[j-1] = a[j-1],a[j]\n",
    "    return a\n",
    "\n",
    "def selection_sort(a):\n",
    "    for i in range(len(a)):\n",
    "        smallest_index = i\n",
    "        for j in range(i,len(a)):\n",
    "            if a[j] < a[smallest_index]:\n",
    "                smallest_index = j\n",
    "        a[i],a[smallest_index] = a[smallest_index],a[i]\n",
    "    return a\n",
    "\n",
    "\n",
    "selection_sort([1,1,7,8,9,0,3,2,3,2,1,1])\n",
    "selection_sort([1])"
   ]
  },
  {
   "cell_type": "code",
   "execution_count": null,
   "metadata": {
    "collapsed": false
   },
   "outputs": [],
   "source": [
    "def merge_sort(a):\n",
    "    \n",
    "    # [low,mid) and [mid,hi)\n",
    "    def _merge_sort_helper(a,lo,mid,hi):\n",
    "        if (hi - lo < 2):\n",
    "            return\n",
    "        _merge_sort_helper(a,lo,(lo+mid)/2,mid)\n",
    "        _merge_sort_helper(a,mid,(mid+hi)/2,hi)\n",
    "        \n",
    "        cpy = np.zeros_like(a[lo:hi])\n",
    "        i,j= lo,mid\n",
    "        counter = 0\n",
    "        while(i < mid or j < hi):\n",
    "            #print(lo,mid,hi)\n",
    "            #print (i,j)\n",
    "            if (i < mid and j < hi):\n",
    "                if a[i] > a[j]:\n",
    "                    cpy[counter] = a[j]\n",
    "                    j += 1\n",
    "                    counter += 1\n",
    "                else:\n",
    "                    cpy[counter] = a[i]\n",
    "                    i += 1\n",
    "                    counter += 1\n",
    "            elif i < mid:\n",
    "                cpy[counter] = a[i]\n",
    "                i += 1\n",
    "                counter += 1\n",
    "            else:\n",
    "                cpy[counter] = a[j]\n",
    "                j += 1\n",
    "                counter += 1\n",
    "        for i in range(lo,hi):\n",
    "            a[i] = cpy[i-lo]\n",
    "    \n",
    "    _merge_sort_helper(a,0,len(a)/2,len(a))\n",
    "                "
   ]
  },
  {
   "cell_type": "code",
   "execution_count": null,
   "metadata": {
    "collapsed": false
   },
   "outputs": [],
   "source": [
    "x = [2,1,0,8,3,2,6,2,3,6,3,5,2,6]\n",
    "merge_sort(x)\n",
    "x"
   ]
  },
  {
   "cell_type": "code",
   "execution_count": null,
   "metadata": {
    "collapsed": false
   },
   "outputs": [],
   "source": [
    "from collections import deque\n",
    "\n",
    "def merge_sort_2(a):\n",
    "    def merge(a,b):\n",
    "        cpy = deque()\n",
    "        while(len(a) > 0 or len(b) > 0):\n",
    "            if (len(a) > 0 and len(b) > 0):\n",
    "                v_1 = a.popleft()\n",
    "                v_2 = b.popleft()\n",
    "                if (v_1 < v_2):\n",
    "                    b.appendleft(v_2)\n",
    "                else:\n",
    "                    a.appendleft(v_1)\n",
    "                cpy.append(min(v_1,v_2))\n",
    "            elif len(a) > 0:\n",
    "                cpy.append(a.popleft())\n",
    "            else:\n",
    "                cpy.append(b.popleft())\n",
    "        return cpy\n",
    "    \n",
    "    stack = deque()\n",
    "    \n",
    "    for i in a:\n",
    "        d = deque()\n",
    "        d.append(i)\n",
    "        stack.append(d)\n",
    "    while len(stack) > 1:\n",
    "        l_1 = stack.pop()\n",
    "        l_2 = stack.pop()\n",
    "        stack.appendleft(merge(l_1,l_2))\n",
    "    out = stack.pop()\n",
    "    for i in range(len(a)):\n",
    "        a[i] = out[i]\n",
    "    \n",
    "a = [9,5,6,7,2,3,4,1,8]\n",
    "merge_sort_2(a)\n",
    "a               \n",
    "        \n",
    "                "
   ]
  },
  {
   "cell_type": "code",
   "execution_count": null,
   "metadata": {
    "collapsed": false
   },
   "outputs": [],
   "source": [
    "from collections import deque\n",
    "\n",
    "def merge_sort_3(a):\n",
    "    def merge(a,b):\n",
    "        cpy = deque()\n",
    "        while(len(a) > 0 or len(b) > 0):\n",
    "            if (len(a) > 0 and len(b) > 0):\n",
    "                v_1 = a.popleft()\n",
    "                v_2 = b.popleft()\n",
    "                if (v_1 < v_2):\n",
    "                    b.appendleft(v_2)\n",
    "                else:\n",
    "                    a.appendleft(v_1)\n",
    "                cpy.append(min(v_1,v_2))\n",
    "            elif len(a) > 0:\n",
    "                cpy.append(a.popleft())\n",
    "            else:\n",
    "                cpy.append(b.popleft())\n",
    "        return cpy\n",
    "    \n",
    "    stack = deque()\n",
    "\n",
    "    for i in range(0, len(a), 7):\n",
    "        cp = a[i:i + 7]\n",
    "        insertion_sort(cp)\n",
    "        d = deque()\n",
    "        for i in cp:\n",
    "            d.append(i)\n",
    "        stack.append(d)\n",
    "    while len(stack) > 1:\n",
    "        print stack\n",
    "        l_1 = stack.pop()\n",
    "        l_2 = stack.pop()\n",
    "        stack.appendleft(merge(l_1,l_2))\n",
    "    out = stack.pop()\n",
    "    for i in range(len(a)):\n",
    "        a[i] = out[i]\n",
    "    \n",
    "a = [9,5,6,7,2,3,4,1,8,5,2,36,74,2,5,23,5,34324234,23,423,423,423,432,4,64,2,6345]\n",
    "merge_sort_3(a)\n",
    "a              "
   ]
  },
  {
   "cell_type": "code",
   "execution_count": null,
   "metadata": {
    "collapsed": false
   },
   "outputs": [],
   "source": [
    "from collections import deque\n",
    "\n",
    "def inversions_brute(a):\n",
    "    ans = 0\n",
    "    for i in range(len(a)):\n",
    "        for j in range(i+1,len(a)):\n",
    "            if a[i] > a[j]:\n",
    "                ans += 1\n",
    "    return ans\n",
    "\n",
    "def inversions(a):\n",
    "    def merge(a,b,aux):\n",
    "        inversions = 0\n",
    "        while (len(a) > 0 or len(b) > 0):\n",
    "            if (len(a)>0 and len(b) > 0):\n",
    "                v_1 = a.popleft()\n",
    "                v_2 = b.popleft()\n",
    "                if (v_1 <= v_2):\n",
    "                    aux.append(v_1)\n",
    "                    b.appendleft(v_2)\n",
    "                else:\n",
    "                    aux.append(v_2)\n",
    "                    a.appendleft(v_1)\n",
    "                    inversions += len(a)\n",
    "            elif (len(a) > 0):\n",
    "                aux.append(a.popleft())\n",
    "            else:\n",
    "                aux.append(b.popleft())\n",
    "        return inversions\n",
    "    \n",
    "    queue = deque()\n",
    "    queue2 = deque()\n",
    "    inversions = 0\n",
    "    for i in a:\n",
    "        d = deque()\n",
    "        d.append(i)\n",
    "        queue.append(d)\n",
    "    while len(queue) + len(queue2) > 1:\n",
    "        while len(queue) > 1:\n",
    "            d = deque()\n",
    "            d1 = queue.popleft()\n",
    "            d2 = queue.popleft()\n",
    "            inversions += merge(d1,d2,d)\n",
    "            queue2.append(d)\n",
    "        if len(queue) == 1:\n",
    "            queue2.append(queue.pop())\n",
    "        queue,queue2 = queue2,queue\n",
    "    return inversions\n",
    "        \n",
    "for i in range(10):\n",
    "    a = np.random.uniform(0,1,5)\n",
    "    print inversions_brute(a) == inversions(a)\n",
    "        \n",
    "    \n",
    "    "
   ]
  },
  {
   "cell_type": "code",
   "execution_count": null,
   "metadata": {
    "collapsed": false
   },
   "outputs": [],
   "source": [
    "a = np.array([1,2,3,4,5])\n",
    "knuth_shuffle(a)\n",
    "    \n",
    "a"
   ]
  },
  {
   "cell_type": "code",
   "execution_count": null,
   "metadata": {
    "collapsed": false
   },
   "outputs": [],
   "source": [
    "def quick(a):\n",
    "    def _quick_helper(a,lo,hi):\n",
    "        if hi - lo < 2:\n",
    "            return lo\n",
    "        curr_bot = lo+1\n",
    "        curr_top = hi-1\n",
    "        while (curr_bot < curr_top):\n",
    "            if a[curr_bot] < a[lo]:\n",
    "                curr_bot += 1\n",
    "            elif a[curr_top] > a[lo]:\n",
    "                curr_top -= 1\n",
    "            else:\n",
    "                a[curr_top],a[curr_bot] = a[curr_bot],a[curr_top]\n",
    "        if a[curr_top] < a[lo]:\n",
    "            a[lo],a[curr_top] = a[curr_top],a[lo]\n",
    "            return curr_top\n",
    "        else:\n",
    "            a[lo],a[curr_top-1] = a[curr_top-1],a[lo]\n",
    "            return curr_top-1\n",
    "      \n",
    "    knuth_shuffle(a)\n",
    "    stack = []\n",
    "    stack.append((0,len(a)))\n",
    "    while len(stack) > 0:\n",
    "        (bot,top) = stack.pop()\n",
    "        mid = _quick_helper(a,bot,top)\n",
    "        if (mid-1 > bot):\n",
    "            stack.append((bot,mid))\n",
    "        if (mid < top-1):\n",
    "            stack.append((mid+1,top))"
   ]
  },
  {
   "cell_type": "code",
   "execution_count": null,
   "metadata": {
    "collapsed": false
   },
   "outputs": [],
   "source": [
    "import itertools\n",
    "n = 4\n",
    "for p in itertools.permutations(range(n),n):\n",
    "    #print p\n",
    "    l = list(p)\n",
    "    quick(l)\n",
    "    print l"
   ]
  },
  {
   "cell_type": "code",
   "execution_count": 7,
   "metadata": {
    "collapsed": false
   },
   "outputs": [],
   "source": [
    "def quick_3way(a):\n",
    "\n",
    "    def _quick_helper3(a,lo,hi):\n",
    "\n",
    "        lt = lo\n",
    "        gt = hi-1\n",
    "        i = lo+1\n",
    "        if hi - lo < 2:\n",
    "            return (lt,gt)\n",
    "        v = a[lo]\n",
    "        while (i <= gt):\n",
    "            if (a[i] < v):\n",
    "                a[lt],a[i] = a[i],a[lt]\n",
    "                lt += 1\n",
    "                i += 1\n",
    "            elif (a[i] > v):\n",
    "                a[gt],a[i] = a[i],a[gt]\n",
    "                gt -= 1\n",
    "            elif (a[i] == v):\n",
    "                i += 1\n",
    "        #print (lt,gt)\n",
    "        return (lt,gt)\n",
    "        #knuth_shuffle(a)\n",
    "    stack = []\n",
    "    stack.append((0,len(a)))\n",
    "    while len(stack) > 0:\n",
    "        #print(stack)\n",
    "        (bot,top) = stack.pop()\n",
    "        \n",
    "        (lt,gt) = _quick_helper3(a,bot,top)\n",
    "        if lt > bot:\n",
    "            stack.append((bot,lt))\n",
    "        if top-1 > gt:\n",
    "            stack.append((gt+1,top))"
   ]
  },
  {
   "cell_type": "code",
   "execution_count": 10,
   "metadata": {
    "collapsed": false
   },
   "outputs": [
    {
     "name": "stdout",
     "output_type": "stream",
     "text": [
      "[0]\n"
     ]
    }
   ],
   "source": [
    "import itertools\n",
    "n = 1\n",
    "for p in itertools.combinations_with_replacement(range(n),n):\n",
    "    #print p\n",
    "    l = list(p)\n",
    "    quick_3way(l)\n",
    "    print l"
   ]
  },
  {
   "cell_type": "code",
   "execution_count": 11,
   "metadata": {
    "collapsed": false
   },
   "outputs": [
    {
     "data": {
      "text/plain": [
       "3"
      ]
     },
     "execution_count": 11,
     "metadata": {},
     "output_type": "execute_result"
    }
   ],
   "source": [
    "l = [1,2,3]\n",
    "l.pop()"
   ]
  },
  {
   "cell_type": "code",
   "execution_count": 47,
   "metadata": {
    "collapsed": true
   },
   "outputs": [],
   "source": [
    "class MaxPQ:\n",
    "    def __init__(self):\n",
    "        self.pq = [None]\n",
    "        self.n = 0\n",
    "        \n",
    "    def _sink(self,k):\n",
    "        while 2*k <= self.n:\n",
    "            i = 2*k\n",
    "            if (i < self.n and self.pq[i] < self.pq[i+1] ):\n",
    "                i += 1\n",
    "            if (self.pq[k] >= self.pq[i]):\n",
    "                break\n",
    "            self.pq[k],self.pq[i] =self.pq[i],self.pq[k]\n",
    "            k = i\n",
    "\n",
    "    def _swim(self,k):\n",
    "        while k > 1 and self.pq[k] > self.pq[k//2]:\n",
    "            self.pq[k],self.pq[k//2] = self.pq[k//2],self.pq[k]\n",
    "            k = k//2\n",
    "        \n",
    "    def pop(self):\n",
    "        self.pq[1],self.pq[self.n] = self.pq[self.n],self.pq[1]\n",
    "        self.n -= 1\n",
    "        v = self.pq.pop()\n",
    "        self._sink(1)\n",
    "        return v\n",
    "        \n",
    "    def push(self,v):\n",
    "        self.n += 1\n",
    "        self.pq.append(v)\n",
    "        self._swim(self.n)\n",
    "        \n",
    "        "
   ]
  },
  {
   "cell_type": "code",
   "execution_count": 49,
   "metadata": {
    "collapsed": false
   },
   "outputs": [
    {
     "name": "stdout",
     "output_type": "stream",
     "text": [
      "[0, 0, 0, 0]\n",
      "[1, 0, 0, 0]\n",
      "[2, 0, 0, 0]\n",
      "[3, 0, 0, 0]\n",
      "[1, 1, 0, 0]\n",
      "[2, 1, 0, 0]\n",
      "[3, 1, 0, 0]\n",
      "[2, 2, 0, 0]\n",
      "[3, 2, 0, 0]\n",
      "[3, 3, 0, 0]\n",
      "[1, 1, 1, 0]\n",
      "[2, 1, 1, 0]\n",
      "[3, 1, 1, 0]\n",
      "[2, 2, 1, 0]\n",
      "[3, 2, 1, 0]\n",
      "[3, 3, 1, 0]\n",
      "[2, 2, 2, 0]\n",
      "[3, 2, 2, 0]\n",
      "[3, 3, 2, 0]\n",
      "[3, 3, 3, 0]\n",
      "[1, 1, 1, 1]\n",
      "[2, 1, 1, 1]\n",
      "[3, 1, 1, 1]\n",
      "[2, 2, 1, 1]\n",
      "[3, 2, 1, 1]\n",
      "[3, 3, 1, 1]\n",
      "[2, 2, 2, 1]\n",
      "[3, 2, 2, 1]\n",
      "[3, 3, 2, 1]\n",
      "[3, 3, 3, 1]\n",
      "[2, 2, 2, 2]\n",
      "[3, 2, 2, 2]\n",
      "[3, 3, 2, 2]\n",
      "[3, 3, 3, 2]\n",
      "[3, 3, 3, 3]\n"
     ]
    }
   ],
   "source": [
    "import itertools\n",
    "n = 4\n",
    "for p in itertools.combinations_with_replacement(range(n),n):\n",
    "    M = MaxPQ()\n",
    "    for i in p:\n",
    "        M.push(i)\n",
    "    output = []\n",
    "    while (M.n > 0):\n",
    "        output.append(M.pop())\n",
    "    print output"
   ]
  },
  {
   "cell_type": "code",
   "execution_count": 198,
   "metadata": {
    "collapsed": true
   },
   "outputs": [],
   "source": [
    "class IndexMinPQ:\n",
    "    \n",
    "    def __init__(self, cap):\n",
    "        self.pq = [None]*cap\n",
    "        self.qp = [None]*cap\n",
    "        self.items = [None]*cap\n",
    "        self.n = 0\n",
    "    \n",
    "    def _swap(self,i,j):\n",
    "        self.pq[i],self.pq[j] = self.pq[j],self.pq[i]\n",
    "        self.qp[self.pq[i]],self.qp[self.pq[j]] = self.qp[self.pq[j]],self.qp[self.pq[i]]\n",
    "    def _sink(self,i):\n",
    "        while (2*i <= self.n):\n",
    "            print \"sinking\"\n",
    "            print self.pq\n",
    "            print self.qp\n",
    "            print self.items\n",
    "\n",
    "            candidate = 2*i\n",
    "            if candidate + 1 <= self.n:\n",
    "                if self.items[self.pq[candidate+1]] < self.items[self.pq[candidate]]:\n",
    "                    candidate += 1\n",
    "            if self.items[self.pq[i]] <= self.items[self.pq[candidate]]:\n",
    "                break\n",
    "            self._swap(i,candidate)\n",
    "            \n",
    "            i *= 2\n",
    "        return i\n",
    "            \n",
    "    def _swim(self,i):\n",
    "        while (i > 1 and self.items[self.pq[i]] < self.items[self.pq[i // 2]]):\n",
    "            print \"swimming\"\n",
    "            print self.pq\n",
    "            print self.qp\n",
    "            print self.items\n",
    "            candidate = i // 2\n",
    "            self._swap(i,candidate)\n",
    "            i = candidate\n",
    "        return i\n",
    "        \n",
    "    def insert(self,k,item):\n",
    "        self.n += 1\n",
    "        self.items[k] = item\n",
    "        self.pq[self.n] = k\n",
    "        self.qp[k] = self.n\n",
    "        self._swim(self.n)\n",
    "                \n",
    "    def contains(self,k):\n",
    "        return self.qp[k] != None\n",
    "    \n",
    "    def minimum(self):\n",
    "        if self.n == 0:\n",
    "            return \"Underflow\"\n",
    "        return self.items[self.pq[1]]\n",
    "    \n",
    "    def min_index(self):\n",
    "        if self.n == 0:\n",
    "            return \"Underflow\"\n",
    "        return self.pq[1]\n",
    "    \n",
    "    def empty(self):\n",
    "        return self.n == 0\n",
    "        \n",
    "    def size(self):\n",
    "        return self.n\n",
    "    \n",
    "    def delete(self,k):\n",
    "        item = self.items[k]\n",
    "        self._swap(self.qp[k],self.n)\n",
    "        \n",
    "        print \"initial swap\"\n",
    "        print pq.pq\n",
    "        print pq.qp\n",
    "        print pq.items\n",
    "        \n",
    "        self.items[self.pq[self.n]] = None\n",
    "        self.qp[self.pq[self.n]] = None\n",
    "        self.pq[self.n] = None\n",
    "        self.n -= 1\n",
    "        \n",
    "        print \"removed last\"\n",
    "        print pq.pq\n",
    "        print pq.qp\n",
    "        print pq.items\n",
    "        \n",
    "        \n",
    "        print \"before swim\"\n",
    "        print pq.pq\n",
    "        print pq.qp\n",
    "        print pq.items\n",
    "        curr = self._swim(k)\n",
    "        \n",
    "        \n",
    "        print \"before sink\"\n",
    "        print pq.pq\n",
    "        print pq.qp\n",
    "        print pq.items\n",
    "        self._sink(curr)\n",
    "        \n",
    "        return item\n",
    "        \n",
    "        \n",
    "    def del_min(self):\n",
    "        if self.n == 0:\n",
    "            return \"Underflow\"\n",
    "        min_index = self.pq[1]\n",
    "        self._swap(1,self.n)\n",
    "        \n",
    "        item = self.items[min_index]\n",
    "        \n",
    "        self.items[self.pq[self.n]] = None\n",
    "        self.qp[self.pq[self.n]] = None\n",
    "        self.pq[self.n] = None\n",
    "        self.n -= 1\n",
    "        \n",
    "        self._sink(1)\n",
    "        return item\n",
    "        \n",
    "\n",
    "    def change(self,k,item):\n",
    "        self.delete(k)\n",
    "        self.insert(k,item)"
   ]
  },
  {
   "cell_type": "code",
   "execution_count": 230,
   "metadata": {
    "collapsed": false
   },
   "outputs": [],
   "source": [
    "pq = IndexMinPQ(12)\n",
    "keys = \"a b c d e f g h i\".split(' ')\n",
    "knuth_shuffle(keys)"
   ]
  },
  {
   "cell_type": "code",
   "execution_count": 231,
   "metadata": {
    "collapsed": false
   },
   "outputs": [
    {
     "data": {
      "text/plain": [
       "['b', 'c', 'h', 'i', 'd', 'g', 'e', 'a', 'f']"
      ]
     },
     "execution_count": 231,
     "metadata": {},
     "output_type": "execute_result"
    }
   ],
   "source": [
    "keys"
   ]
  },
  {
   "cell_type": "code",
   "execution_count": 232,
   "metadata": {
    "collapsed": false
   },
   "outputs": [
    {
     "name": "stdout",
     "output_type": "stream",
     "text": [
      "swimming\n",
      "[None, 1, 2, 3, 4, 5, 6, None, None, None, None, None]\n",
      "[None, 1, 2, 3, 4, 5, 6, None, None, None, None, None]\n",
      "[None, 'b', 'c', 'h', 'i', 'd', 'g', None, None, None, None, None]\n",
      "swimming\n",
      "[None, 1, 2, 6, 4, 5, 3, 7, None, None, None, None]\n",
      "[None, 1, 2, 6, 4, 5, 3, 7, None, None, None, None]\n",
      "[None, 'b', 'c', 'h', 'i', 'd', 'g', 'e', None, None, None, None]\n",
      "swimming\n",
      "[None, 1, 2, 7, 4, 5, 3, 6, 8, None, None, None]\n",
      "[None, 1, 2, 6, 4, 5, 7, 3, 8, None, None, None]\n",
      "[None, 'b', 'c', 'h', 'i', 'd', 'g', 'e', 'a', None, None, None]\n",
      "swimming\n",
      "[None, 1, 2, 7, 8, 5, 3, 6, 4, None, None, None]\n",
      "[None, 1, 2, 6, 8, 5, 7, 3, 4, None, None, None]\n",
      "[None, 'b', 'c', 'h', 'i', 'd', 'g', 'e', 'a', None, None, None]\n",
      "swimming\n",
      "[None, 1, 8, 7, 2, 5, 3, 6, 4, None, None, None]\n",
      "[None, 1, 4, 6, 8, 5, 7, 3, 2, None, None, None]\n",
      "[None, 'b', 'c', 'h', 'i', 'd', 'g', 'e', 'a', None, None, None]\n"
     ]
    }
   ],
   "source": [
    "for i in range(9):\n",
    "    pq.insert(i+1,keys[i])"
   ]
  },
  {
   "cell_type": "code",
   "execution_count": 233,
   "metadata": {
    "collapsed": false
   },
   "outputs": [
    {
     "name": "stdout",
     "output_type": "stream",
     "text": [
      "\n",
      "[None, 8, 1, 7, 2, 5, 3, 6, 4, 9, None, None]\n",
      "[None, 2, 4, 6, 8, 5, 7, 3, 1, 9, None, None]\n",
      "[None, 'b', 'c', 'h', 'i', 'd', 'g', 'e', 'a', 'f', None, None]\n"
     ]
    }
   ],
   "source": [
    "\n",
    "print \"\"\n",
    "print pq.pq\n",
    "print pq.qp\n",
    "print pq.items"
   ]
  },
  {
   "cell_type": "code",
   "execution_count": 210,
   "metadata": {
    "collapsed": false
   },
   "outputs": [
    {
     "name": "stdout",
     "output_type": "stream",
     "text": [
      "\n",
      "[None, 3, 1, 2, None, None, None, None, None, None]\n",
      "[None, 2, 3, 1, None, None, None, None, None, None]\n",
      "[None, 'd', 'b', 'a', None, None, None, None, None, None]\n"
     ]
    }
   ],
   "source": [
    "pq.insert(2,\"b\")\n",
    "print \"\"\n",
    "print pq.pq\n",
    "print pq.qp\n",
    "print pq.items"
   ]
  },
  {
   "cell_type": "code",
   "execution_count": 211,
   "metadata": {
    "collapsed": false
   },
   "outputs": [
    {
     "name": "stdout",
     "output_type": "stream",
     "text": [
      "swimming\n",
      "[None, 3, 1, 2, 4, None, None, None, None, None]\n",
      "[None, 2, 3, 1, 4, None, None, None, None, None]\n",
      "[None, 'd', 'b', 'a', 'c', None, None, None, None, None]\n",
      "\n",
      "[None, 3, 4, 2, 1, None, None, None, None, None]\n",
      "[None, 4, 3, 1, 2, None, None, None, None, None]\n",
      "[None, 'd', 'b', 'a', 'c', None, None, None, None, None]\n"
     ]
    }
   ],
   "source": [
    "pq.insert(4,\"c\")\n",
    "print \"\"\n",
    "print pq.pq\n",
    "print pq.qp\n",
    "print pq.items"
   ]
  },
  {
   "cell_type": "code",
   "execution_count": 212,
   "metadata": {
    "collapsed": false
   },
   "outputs": [
    {
     "name": "stdout",
     "output_type": "stream",
     "text": [
      "3\n"
     ]
    }
   ],
   "source": [
    "print pq.min_index()"
   ]
  },
  {
   "cell_type": "code",
   "execution_count": 213,
   "metadata": {
    "collapsed": false
   },
   "outputs": [
    {
     "name": "stdout",
     "output_type": "stream",
     "text": [
      "[None, 3, 4, 2, 1, None, None, None, None, None]\n",
      "[None, 4, 3, 1, 2, None, None, None, None, None]\n",
      "[None, 'd', 'b', 'a', 'c', None, None, None, None, None]\n",
      "initial swap\n",
      "[None, 3, 4, 1, 2, None, None, None, None, None]\n",
      "[None, 3, 4, 1, 2, None, None, None, None, None]\n",
      "[None, 'd', 'b', 'a', 'c', None, None, None, None, None]\n",
      "removed last\n",
      "[None, 3, 4, 1, None, None, None, None, None, None]\n",
      "[None, 3, None, 1, 2, None, None, None, None, None]\n",
      "[None, 'd', None, 'a', 'c', None, None, None, None, None]\n",
      "before swim\n",
      "[None, 3, 4, 1, None, None, None, None, None, None]\n",
      "[None, 3, None, 1, 2, None, None, None, None, None]\n",
      "[None, 'd', None, 'a', 'c', None, None, None, None, None]\n",
      "before sink\n",
      "[None, 3, 4, 1, None, None, None, None, None, None]\n",
      "[None, 3, None, 1, 2, None, None, None, None, None]\n",
      "[None, 'd', None, 'a', 'c', None, None, None, None, None]\n",
      "b\n"
     ]
    }
   ],
   "source": [
    "print pq.pq\n",
    "print pq.qp\n",
    "print pq.items\n",
    "print pq.delete(2)"
   ]
  },
  {
   "cell_type": "code",
   "execution_count": 206,
   "metadata": {
    "collapsed": false
   },
   "outputs": [
    {
     "name": "stdout",
     "output_type": "stream",
     "text": [
      "initial swap\n",
      "[None, 1, 4, 2, None, None, None, None, None, None]\n",
      "[None, 1, 3, None, 2, None, None, None, None, None]\n",
      "[None, 'd', 'b', None, 'c', None, None, None, None, None]\n",
      "removed last\n",
      "[None, 1, 4, None, None, None, None, None, None, None]\n",
      "[None, 1, None, None, 2, None, None, None, None, None]\n",
      "[None, 'd', None, None, 'c', None, None, None, None, None]\n",
      "before swim\n",
      "[None, 1, 4, None, None, None, None, None, None, None]\n",
      "[None, 1, None, None, 2, None, None, None, None, None]\n",
      "[None, 'd', None, None, 'c', None, None, None, None, None]\n",
      "swimming\n",
      "[None, 1, 4, None, None, None, None, None, None, None]\n",
      "[None, 1, None, None, 2, None, None, None, None, None]\n",
      "[None, 'd', None, None, 'c', None, None, None, None, None]\n",
      "before sink\n",
      "[None, 4, 1, None, None, None, None, None, None, None]\n",
      "[None, 2, None, None, 1, None, None, None, None, None]\n",
      "[None, 'd', None, None, 'c', None, None, None, None, None]\n",
      "sinking\n",
      "[None, 4, 1, None, None, None, None, None, None, None]\n",
      "[None, 2, None, None, 1, None, None, None, None, None]\n",
      "[None, 'd', None, None, 'c', None, None, None, None, None]\n",
      "b\n"
     ]
    }
   ],
   "source": [
    "print pq.delete(2)"
   ]
  },
  {
   "cell_type": "code",
   "execution_count": 197,
   "metadata": {
    "collapsed": false
   },
   "outputs": [
    {
     "name": "stdout",
     "output_type": "stream",
     "text": [
      "\n",
      "[None, 2, 4, 1, None, None, None, None, None, None]\n",
      "[None, 3, 1, None, 2, None, None, None, None, None]\n",
      "[None, 'd', 'b', None, 'c', None, None, None, None, None]\n"
     ]
    }
   ],
   "source": [
    "print \"\"\n",
    "print pq.pq\n",
    "print pq.qp\n",
    "print pq.items"
   ]
  },
  {
   "cell_type": "code",
   "execution_count": null,
   "metadata": {
    "collapsed": true
   },
   "outputs": [],
   "source": []
  }
 ],
 "metadata": {
  "anaconda-cloud": {},
  "kernelspec": {
   "display_name": "Python [default]",
   "language": "python",
   "name": "python2"
  },
  "language_info": {
   "codemirror_mode": {
    "name": "ipython",
    "version": 2
   },
   "file_extension": ".py",
   "mimetype": "text/x-python",
   "name": "python",
   "nbconvert_exporter": "python",
   "pygments_lexer": "ipython2",
   "version": "2.7.3"
  }
 },
 "nbformat": 4,
 "nbformat_minor": 2
}
